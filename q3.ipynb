{
 "cells": [
  {
   "cell_type": "code",
   "execution_count": 40,
   "id": "3e7547e6",
   "metadata": {},
   "outputs": [
    {
     "name": "stdout",
     "output_type": "stream",
     "text": [
      "Average distance is:  0.8888888888888888\n"
     ]
    }
   ],
   "source": [
    "N = 3                           #NUMBER OF POINTS\n",
    "\n",
    "if N == 0:\n",
    "    print(\"Number of points cannot be zero!\")\n",
    "else:\n",
    "    temp = 0                       \n",
    "    for i in range(N):\n",
    "        for j in range(N):          #PERFORMING ITERATION\n",
    "            if i >= j:\n",
    "                temp += i - j\n",
    "            else:\n",
    "                temp += j - i\n",
    "    \n",
    "    avg_distance = temp / (N*N)     #CALCULATING AVERAGE\n",
    "    print(\"Average distance is: \", avg_distance)             #PRINTING"
   ]
  },
  {
   "cell_type": "code",
   "execution_count": 41,
   "id": "b7951fec",
   "metadata": {},
   "outputs": [
    {
     "name": "stdout",
     "output_type": "stream",
     "text": [
      "Average distance is:  3.3\n"
     ]
    }
   ],
   "source": [
    "N = 10                           #NUMBER OF POINTS\n",
    "\n",
    "if N == 0:\n",
    "    print(\"Number of points cannot be zero!\")\n",
    "else:\n",
    "    temp = 0                       \n",
    "    for i in range(N):\n",
    "        for j in range(N):          #PERFORMING ITERATION\n",
    "            if i >= j:\n",
    "                temp += i - j\n",
    "            else:\n",
    "                temp += j - i\n",
    "    \n",
    "    avg_distance = temp / (N*N)     #CALCULATING AVERAGE\n",
    "    print(\"Average distance is: \", avg_distance)             #PRINTING"
   ]
  },
  {
   "cell_type": "code",
   "execution_count": 42,
   "id": "09f79ad3",
   "metadata": {},
   "outputs": [
    {
     "name": "stdout",
     "output_type": "stream",
     "text": [
      "Number of points cannot be zero!\n"
     ]
    }
   ],
   "source": [
    "N = 0                           #NUMBER OF POINTS\n",
    "\n",
    "if N == 0:\n",
    "    print(\"Number of points cannot be zero!\")\n",
    "else:\n",
    "    temp = 0                       \n",
    "    for i in range(N):\n",
    "        for j in range(N):          #PERFORMING ITERATION\n",
    "            if i >= j:\n",
    "                temp += i - j\n",
    "            else:\n",
    "                temp += j - i\n",
    "    \n",
    "    avg_distance = temp / (N*N)     #CALCULATING AVERAGE\n",
    "    print(\"Average distance is: \", avg_distance)             #PRINTING"
   ]
  },
  {
   "cell_type": "code",
   "execution_count": 43,
   "id": "fea41595",
   "metadata": {},
   "outputs": [
    {
     "name": "stdout",
     "output_type": "stream",
     "text": [
      "Average distance is:  6.65\n"
     ]
    }
   ],
   "source": [
    "N = 20                           #NUMBER OF POINTS\n",
    "\n",
    "if N == 0:\n",
    "    print(\"Number of points cannot be zero!\")\n",
    "else:\n",
    "    temp = 0                       \n",
    "    for i in range(N):\n",
    "        for j in range(N):          #PERFORMING ITERATION\n",
    "            if i >= j:\n",
    "                temp += i - j\n",
    "            else:\n",
    "                temp += j - i\n",
    "    \n",
    "    avg_distance = temp / (N*N)     #CALCULATING AVERAGE\n",
    "    print(\"Average distance is: \", avg_distance)             #PRINTING"
   ]
  },
  {
   "cell_type": "code",
   "execution_count": null,
   "id": "1d32fdd2",
   "metadata": {},
   "outputs": [],
   "source": []
  }
 ],
 "metadata": {
  "kernelspec": {
   "display_name": "Python 3",
   "language": "python",
   "name": "python3"
  },
  "language_info": {
   "codemirror_mode": {
    "name": "ipython",
    "version": 3
   },
   "file_extension": ".py",
   "mimetype": "text/x-python",
   "name": "python",
   "nbconvert_exporter": "python",
   "pygments_lexer": "ipython3",
   "version": "3.8.8"
  }
 },
 "nbformat": 4,
 "nbformat_minor": 5
}
