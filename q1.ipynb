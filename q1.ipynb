{
 "cells": [
  {
   "cell_type": "code",
   "execution_count": 1,
   "id": "d5e6a1ed",
   "metadata": {},
   "outputs": [],
   "source": [
    "import numpy as np    #for loadtxt()"
   ]
  },
  {
   "cell_type": "code",
   "execution_count": 2,
   "id": "ed5b2bba",
   "metadata": {},
   "outputs": [],
   "source": [
    "#loading the matrices\n",
    "\n",
    "A = np.loadtxt('matrix_a.csv', delimiter = ',')      #2D ARRAY\n",
    "B = np.loadtxt('matrix_b.csv', delimiter = ',')      #2D ARRAY\n",
    "C_1 = np.loadtxt('matrix_c.csv', delimiter = ',')    #1D ARRAY which will be interpreted as row matrix\n",
    "D_1 = np.loadtxt('matrix_d.csv', delimiter = ',')    #1D ARRAY which will be interpreted as column matrix\n",
    "\n",
    "C = []         #ROW MATRIX\n",
    "C.append(C_1)\n",
    "\n",
    "D = []         #COLUMN MATRIX\n",
    "for i in D_1:\n",
    "    temp = []\n",
    "    temp.append(i)\n",
    "    D.append(temp)"
   ]
  },
  {
   "cell_type": "code",
   "execution_count": 3,
   "id": "c4afc2a6",
   "metadata": {
    "scrolled": true
   },
   "outputs": [
    {
     "name": "stdout",
     "output_type": "stream",
     "text": [
      "Matrix A is:  \n",
      " [[1. 2. 0.]\n",
      " [5. 3. 6.]\n",
      " [7. 4. 9.]]\n",
      "Matrix B is:  \n",
      " [[ 5.  1.  6.]\n",
      " [ 3.  8.  3.]\n",
      " [ 5.  9. 12.]]\n",
      "Matrix C is:  \n",
      " [array([7., 4., 9.])]\n",
      "Matrix D is:  \n",
      " [[2.0], [6.0], [1.0]]\n"
     ]
    }
   ],
   "source": [
    "print(\"Matrix A is: \", \"\\n\", A)   #SQUARE MATRIX\n",
    "print(\"Matrix B is: \", \"\\n\", B)   #SQUARE MATRIX\n",
    "print(\"Matrix C is: \", \"\\n\", C)   #ROW MATRIX\n",
    "print(\"Matrix D is: \", \"\\n\", D)   #COLUMN MATRIX"
   ]
  },
  {
   "cell_type": "code",
   "execution_count": 4,
   "id": "b21021eb",
   "metadata": {},
   "outputs": [],
   "source": [
    "def mat_mult(X, Y):                            #DEFINING THE MATRIX MULTIPLICATION FUNCTION\n",
    "    len_row_X = len(X)\n",
    "    len_column_X = len(X[0])\n",
    "    len_row_Y = len(Y)\n",
    "    len_column_Y = len(Y[0])\n",
    "\n",
    "    if len_column_X == len_row_Y:              #CHECKING IF MATRIX MULTIPLICATION IS POSSIBLE\n",
    "        Z = []                                 #THIS WILL BE FINAL MULTIPLIED MATRIX\n",
    "        for i in range(len(X)):\n",
    "            Z_row_temp = []                    #THIS WILL BE THE TEMPORARY ROWS APPENDED TO Z AFTER EACH ITERATION\n",
    "            for j in range(len(Y[0])):\n",
    "                temp = 0                       #THIS WILL BE THE TEMPORARY ELEMENTS OF EACH ROW\n",
    "                for k in range(len(Y)):\n",
    "                    temp += X[i][k]*Y[k][j]    #THE MAIN ITERATION\n",
    "                Z_row_temp.append(temp)        #APPENDING THE ELEMENT TO THE ROW\n",
    "            Z.append(Z_row_temp)               #APPENDING THE ROW TO Z\n",
    "        return Z\n",
    "    else:\n",
    "        print(\"Invalid Argument\")              "
   ]
  },
  {
   "cell_type": "code",
   "execution_count": 5,
   "id": "1fcc9b1c",
   "metadata": {},
   "outputs": [],
   "source": [
    "def print_matrix(Z):                           #DEFINING THE MATRIX PRINTING\n",
    "    if Z is None:                              #FOR WHEN THE MULTIPLICATION IS INVALID\n",
    "        print(\"\\n\")\n",
    "    else:    \n",
    "        for row in Z:\n",
    "            print(row)"
   ]
  },
  {
   "cell_type": "code",
   "execution_count": 6,
   "id": "27cf5070",
   "metadata": {
    "scrolled": false
   },
   "outputs": [
    {
     "name": "stdout",
     "output_type": "stream",
     "text": [
      "[47.0]\n"
     ]
    }
   ],
   "source": [
    "print_matrix(mat_mult(C, D))                   #ROW X COLUMN"
   ]
  },
  {
   "cell_type": "code",
   "execution_count": 7,
   "id": "58023af1",
   "metadata": {},
   "outputs": [
    {
     "name": "stdout",
     "output_type": "stream",
     "text": [
      "[11.0, 17.0, 12.0]\n",
      "[64.0, 83.0, 111.0]\n",
      "[92.0, 120.0, 162.0]\n"
     ]
    }
   ],
   "source": [
    "print_matrix(mat_mult(A, B))                   #SQUARE X SQUARE       "
   ]
  },
  {
   "cell_type": "code",
   "execution_count": 8,
   "id": "cddddd31",
   "metadata": {},
   "outputs": [
    {
     "name": "stdout",
     "output_type": "stream",
     "text": [
      "[90.0, 62.0, 105.0]\n"
     ]
    }
   ],
   "source": [
    "print_matrix(mat_mult(C, A))                   #ROW X SQUARE"
   ]
  },
  {
   "cell_type": "code",
   "execution_count": 9,
   "id": "878dc996",
   "metadata": {},
   "outputs": [
    {
     "name": "stdout",
     "output_type": "stream",
     "text": [
      "[22.0]\n",
      "[57.0]\n",
      "[76.0]\n"
     ]
    }
   ],
   "source": [
    "print_matrix(mat_mult(B, D))                   #SQUARE X COLUMN"
   ]
  }
 ],
 "metadata": {
  "kernelspec": {
   "display_name": "Python 3",
   "language": "python",
   "name": "python3"
  },
  "language_info": {
   "codemirror_mode": {
    "name": "ipython",
    "version": 3
   },
   "file_extension": ".py",
   "mimetype": "text/x-python",
   "name": "python",
   "nbconvert_exporter": "python",
   "pygments_lexer": "ipython3",
   "version": "3.8.8"
  }
 },
 "nbformat": 4,
 "nbformat_minor": 5
}
